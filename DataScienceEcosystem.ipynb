{
 "cells": [
  {
   "cell_type": "markdown",
   "id": "f153ed2f-0582-484f-8445-9277165affaa",
   "metadata": {},
   "source": [
    "# Data Science Tools and Ecosystem"
   ]
  },
  {
   "cell_type": "markdown",
   "id": "4fb068d9-f7ab-4085-8a97-db23aa7da62c",
   "metadata": {},
   "source": [
    "**In this notebook, Data Science Tools and Ecosystem are summarized.**"
   ]
  },
  {
   "cell_type": "markdown",
   "id": "3806a7c7-f383-4f0f-86bb-1ab127fa4d13",
   "metadata": {},
   "source": [
    "**Some of the popular languages that Data Scientists use are:**"
   ]
  },
  {
   "cell_type": "markdown",
   "id": "cf0557ce-b424-4a5e-b307-36d40885633f",
   "metadata": {},
   "source": [
    "1. R\n",
    "2. Python\n",
    "3. SQL\n"
   ]
  },
  {
   "cell_type": "markdown",
   "id": "5f1483f3-4fd2-44c0-b17e-2d00d064f442",
   "metadata": {},
   "source": [
    "Some of the commonly used libraries used by Data Scientists include:"
   ]
  },
  {
   "cell_type": "markdown",
   "id": "6a844e32-6078-4b4a-a13a-ddb48a53f1d7",
   "metadata": {},
   "source": [
    "- Matplotlib\n",
    "- Pandas \n",
    "- TensorFlow"
   ]
  },
  {
   "cell_type": "markdown",
   "id": "8334ba38-ca03-4bd2-ae31-3124a1308d21",
   "metadata": {},
   "source": [
    "## Data Science Tools"
   ]
  },
  {
   "cell_type": "markdown",
   "id": "2c67b53b-0924-45c1-8dc4-7061d0f60719",
   "metadata": {},
   "source": [
    "| Open-Source IDEs |  |\n",
    "| -------------| ------ |\n",
    "| Jupyter Notebook | A widely used open-source web application for interactive coding, data analysis, and visualization |\n",
    "| RStudio | A dedicated integrated development environment for R |\n",
    "| Spyder |  A Python IDE tailored for scientific computing and data analysis |\n",
    "\n",
    "\n"
   ]
  },
  {
   "cell_type": "markdown",
   "id": "7dc2aa60-0f68-4be2-8735-40923cbfe601",
   "metadata": {},
   "source": [
    "### Below are a few examples of evaluating arithmetic expressions in Python"
   ]
  },
  {
   "cell_type": "markdown",
   "id": "5e50d1a4-4595-4479-b872-fa66acba7f33",
   "metadata": {},
   "source": [
    "This a simple arithmetic expression to mutiply then add integers. "
   ]
  },
  {
   "cell_type": "code",
   "execution_count": 41,
   "id": "fe33d940-4214-4f7a-ac7b-03d7c80d64ff",
   "metadata": {},
   "outputs": [
    {
     "data": {
      "text/plain": [
       "17"
      ]
     },
     "execution_count": 41,
     "metadata": {},
     "output_type": "execute_result"
    }
   ],
   "source": [
    "(3*4)+5"
   ]
  },
  {
   "cell_type": "markdown",
   "id": "5497f8db-1459-4b99-a2bc-32f0d485b097",
   "metadata": {},
   "source": [
    "This will convert 200 minutes to hours by diving by 60."
   ]
  },
  {
   "cell_type": "code",
   "execution_count": 50,
   "id": "d3f37a6d-6b6a-445f-965e-3f404be65d06",
   "metadata": {},
   "outputs": [
    {
     "data": {
      "text/plain": [
       "3.3333333333333335"
      ]
     },
     "execution_count": 50,
     "metadata": {},
     "output_type": "execute_result"
    }
   ],
   "source": [
    "minutes = 200\n",
    "hours = minutes / 60\n",
    "hours"
   ]
  },
  {
   "cell_type": "markdown",
   "id": "4908c1c8-92d6-4760-b9ec-0bb9ea6a5185",
   "metadata": {},
   "source": [
    "**Objectives:**\n"
   ]
  },
  {
   "cell_type": "markdown",
   "id": "fdd254c9-f99d-40cf-b439-7d5bfa865c05",
   "metadata": {},
   "source": [
    "+ Create a markdown cell - Give it a title\n",
    "+ List popular Programming Languages used by Data Scientists by creating an ordered (numeric) list\n",
    "+ List common Libraries used by Data Scientists by creating an unordered list\n",
    "+ List common Integrated Development Environment (or IDEs) open-source tools used in data science\n",
    "+ Give examples of arithmetic expressions in Python\n",
    "+ Next, share your notebook through GitHub"
   ]
  },
  {
   "cell_type": "markdown",
   "id": "9d9ce668-3cee-4a97-85f3-c41549824137",
   "metadata": {},
   "source": [
    "## Author\n",
    "Sarah Padoan "
   ]
  }
 ],
 "metadata": {
  "kernelspec": {
   "display_name": "Python 3 (ipykernel)",
   "language": "python",
   "name": "python3"
  },
  "language_info": {
   "codemirror_mode": {
    "name": "ipython",
    "version": 3
   },
   "file_extension": ".py",
   "mimetype": "text/x-python",
   "name": "python",
   "nbconvert_exporter": "python",
   "pygments_lexer": "ipython3",
   "version": "3.12.4"
  }
 },
 "nbformat": 4,
 "nbformat_minor": 5
}
